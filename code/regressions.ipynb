{
 "cells": [
  {
   "cell_type": "markdown",
   "id": "9021e6dd",
   "metadata": {},
   "source": [
    "# Regressions"
   ]
  },
  {
   "cell_type": "code",
   "execution_count": 6,
   "id": "0df00a06",
   "metadata": {},
   "outputs": [],
   "source": [
    "# Import libraries\n",
    "import pandas as pd\n",
    "import numpy as np\n",
    "from datetime import datetime, timedelta\n",
    "import os\n",
    "from os import *\n",
    "import sys\n",
    "sys.path.append(\"../\")\n",
    "import urllib.request\n",
    "import requests\n",
    "import json\n",
    "import statsmodels.api as sm"
   ]
  },
  {
   "cell_type": "code",
   "execution_count": 2,
   "id": "b2d3e62f",
   "metadata": {},
   "outputs": [],
   "source": [
    "# Change directory\n",
    "def change_dir(newpath):\n",
    "    get_path = sys.path[0].split(\"\\\\\")      \n",
    "    del get_path[-1]                                                  \n",
    "    get_path.append(newpath)                    \n",
    "    path = \"\\\\\".join(get_path)              \n",
    "    os.chdir(path)"
   ]
  },
  {
   "cell_type": "markdown",
   "id": "1553da75",
   "metadata": {},
   "source": [
    "## Regression 1"
   ]
  },
  {
   "cell_type": "code",
   "execution_count": 11,
   "id": "7336bbb2",
   "metadata": {},
   "outputs": [
    {
     "data": {
      "text/plain": [
       "Index(['Unnamed: 0', 'area_code', 'hispanic', 'white_nonhispanic',\n",
       "       'black_nonhispanic', 'other_nonhispanic', 'asian_nonhispanic',\n",
       "       'above_65', 'prepandemic_growth', 'leisure_by_emp', 'total_emp_feb2020',\n",
       "       'manufacturing_emp_feb2020', 'service_emp_feb2020', 'total_emp_jun2021',\n",
       "       'manufacturing_emp_jun2021', 'service_emp_jun2021', 'total_employment',\n",
       "       'manufacturing', 'service', 'emp_tot_change_feb2020_jun2021',\n",
       "       'manufacturing_change_feb2020_jun2021',\n",
       "       'service_change_feb2020_jun2021', 'occ_15', 'total_pop', 'pop_excl',\n",
       "       'less_than_9grade', 'hs_nodiploma', 'ged', 'college_nodegree',\n",
       "       'associates', 'bachelors_graduate', 'CBSA Title', 'division', 'region',\n",
       "       'pop_by_metro'],\n",
       "      dtype='object')"
      ]
     },
     "execution_count": 11,
     "metadata": {},
     "output_type": "execute_result"
    }
   ],
   "source": [
    "change_dir('output//stage2')\n",
    "data = pd.read_csv(\"output.csv\")\n",
    "data.columns"
   ]
  },
  {
   "cell_type": "code",
   "execution_count": 12,
   "id": "ad0215bc",
   "metadata": {},
   "outputs": [
    {
     "name": "stdout",
     "output_type": "stream",
     "text": [
      "                                  OLS Regression Results                                  \n",
      "==========================================================================================\n",
      "Dep. Variable:     emp_tot_change_feb2020_jun2021   R-squared:                       0.097\n",
      "Model:                                        OLS   Adj. R-squared:                  0.083\n",
      "Method:                             Least Squares   F-statistic:                     6.757\n",
      "Date:                            Tue, 10 Aug 2021   Prob (F-statistic):           5.33e-06\n",
      "Time:                                    11:46:31   Log-Likelihood:                 552.80\n",
      "No. Observations:                             320   AIC:                            -1094.\n",
      "Df Residuals:                                 314   BIC:                            -1071.\n",
      "Df Model:                                       5                                         \n",
      "Covariance Type:                        nonrobust                                         \n",
      "======================================================================================\n",
      "                         coef    std err          t      P>|t|      [0.025      0.975]\n",
      "--------------------------------------------------------------------------------------\n",
      "const                 -0.0459      0.016     -2.936      0.004      -0.077      -0.015\n",
      "leisure_by_emp        -0.0999      0.081     -1.238      0.217      -0.259       0.059\n",
      "occ_15                 0.7331      0.239      3.070      0.002       0.263       1.203\n",
      "total_pop          -1.214e-09   1.51e-09     -0.803      0.422   -4.19e-09    1.76e-09\n",
      "bachelors_graduate    -0.0019      0.000     -4.408      0.000      -0.003      -0.001\n",
      "white_nonhispanic      0.0004      0.000      2.737      0.007       0.000       0.001\n",
      "==============================================================================\n",
      "Omnibus:                       85.205   Durbin-Watson:                   2.060\n",
      "Prob(Omnibus):                  0.000   Jarque-Bera (JB):             1650.965\n",
      "Skew:                           0.508   Prob(JB):                         0.00\n",
      "Kurtosis:                      14.081   Cond. No.                     1.96e+08\n",
      "==============================================================================\n",
      "\n",
      "Notes:\n",
      "[1] Standard Errors assume that the covariance matrix of the errors is correctly specified.\n",
      "[2] The condition number is large, 1.96e+08. This might indicate that there are\n",
      "strong multicollinearity or other numerical problems.\n"
     ]
    }
   ],
   "source": [
    "x = data[['leisure_by_emp','occ_15','total_pop','bachelors_graduate', 'white_nonhispanic']].copy()\n",
    "y = data['emp_tot_change_feb2020_jun2021']\n",
    "model1 = sm.OLS(y,sm.add_constant(x),missing='drop').fit()\n",
    "print(model1.summary())"
   ]
  },
  {
   "cell_type": "code",
   "execution_count": null,
   "id": "a0fc8c67",
   "metadata": {},
   "outputs": [],
   "source": []
  }
 ],
 "metadata": {
  "kernelspec": {
   "display_name": "Python 3",
   "language": "python",
   "name": "python3"
  },
  "language_info": {
   "codemirror_mode": {
    "name": "ipython",
    "version": 3
   },
   "file_extension": ".py",
   "mimetype": "text/x-python",
   "name": "python",
   "nbconvert_exporter": "python",
   "pygments_lexer": "ipython3",
   "version": "3.8.3"
  }
 },
 "nbformat": 4,
 "nbformat_minor": 5
}
