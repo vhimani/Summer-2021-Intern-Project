{
 "cells": [
  {
   "cell_type": "markdown",
   "id": "a31931d3",
   "metadata": {},
   "source": [
    "# Regressions"
   ]
  },
  {
   "cell_type": "code",
   "execution_count": 30,
   "id": "3ae8a479",
   "metadata": {},
   "outputs": [],
   "source": [
    "# Import libraries\n",
    "import pandas as pd\n",
    "import numpy as np\n",
    "from datetime import datetime, timedelta\n",
    "import os\n",
    "from os import *\n",
    "import sys\n",
    "sys.path.append(\"../\")\n",
    "import urllib.request\n",
    "import requests\n",
    "import json\n",
    "import statsmodels.api as sm"
   ]
  },
  {
   "cell_type": "code",
   "execution_count": 31,
   "id": "4cbdf04d",
   "metadata": {},
   "outputs": [],
   "source": [
    "# Change directory\n",
    "def change_dir(newpath):\n",
    "    get_path = sys.path[0].split(\"\\\\\")      \n",
    "    del get_path[-1]                                                  \n",
    "    get_path.append(newpath)                    \n",
    "    path = \"\\\\\".join(get_path)              \n",
    "    os.chdir(path)"
   ]
  },
  {
   "cell_type": "markdown",
   "id": "ae9805bf",
   "metadata": {},
   "source": [
    "## Regression 1: Total employment"
   ]
  },
  {
   "cell_type": "code",
   "execution_count": 32,
   "id": "6702cfa2",
   "metadata": {},
   "outputs": [
    {
     "data": {
      "text/plain": [
       "Index(['Unnamed: 0', 'area_code', 'hispanic', 'white_nonhispanic',\n",
       "       'black_nonhispanic', 'other_nonhispanic', 'asian_nonhispanic',\n",
       "       'above_65', 'prepandemic_growth', 'leisure_by_emp', 'total_emp_feb2020',\n",
       "       'manufacturing_emp_feb2020', 'service_emp_feb2020', 'total_emp_jun2021',\n",
       "       'manufacturing_emp_jun2021', 'service_emp_jun2021', 'total_employment',\n",
       "       'manufacturing', 'service', 'emp_tot_change_feb2020_jun2021',\n",
       "       'manufacturing_change_feb2020_jun2021',\n",
       "       'service_change_feb2020_jun2021', 'occ_15', 'total_pop', 'pop_excl',\n",
       "       'less_than_9grade', 'hs_nodiploma', 'ged', 'college_nodegree',\n",
       "       'associates', 'bachelors_graduate', 'CBSA Title', 'division', 'region',\n",
       "       'pop_by_metro'],\n",
       "      dtype='object')"
      ]
     },
     "execution_count": 32,
     "metadata": {},
     "output_type": "execute_result"
    }
   ],
   "source": [
    "change_dir('output//stage2')\n",
    "data = pd.read_csv(\"output.csv\")\n",
    "data.columns"
   ]
  },
  {
   "cell_type": "code",
   "execution_count": 33,
   "id": "6c38c1f8",
   "metadata": {},
   "outputs": [
    {
     "name": "stdout",
     "output_type": "stream",
     "text": [
      "                                  OLS Regression Results                                  \n",
      "==========================================================================================\n",
      "Dep. Variable:     emp_tot_change_feb2020_jun2021   R-squared:                       0.097\n",
      "Model:                                        OLS   Adj. R-squared:                  0.083\n",
      "Method:                             Least Squares   F-statistic:                     6.757\n",
      "Date:                            Tue, 10 Aug 2021   Prob (F-statistic):           5.33e-06\n",
      "Time:                                    12:16:30   Log-Likelihood:                 552.80\n",
      "No. Observations:                             320   AIC:                            -1094.\n",
      "Df Residuals:                                 314   BIC:                            -1071.\n",
      "Df Model:                                       5                                         \n",
      "Covariance Type:                        nonrobust                                         \n",
      "======================================================================================\n",
      "                         coef    std err          t      P>|t|      [0.025      0.975]\n",
      "--------------------------------------------------------------------------------------\n",
      "const                 -0.0459      0.016     -2.936      0.004      -0.077      -0.015\n",
      "leisure_by_emp        -0.0999      0.081     -1.238      0.217      -0.259       0.059\n",
      "occ_15                 0.7331      0.239      3.070      0.002       0.263       1.203\n",
      "total_pop          -1.214e-09   1.51e-09     -0.803      0.422   -4.19e-09    1.76e-09\n",
      "bachelors_graduate    -0.0019      0.000     -4.408      0.000      -0.003      -0.001\n",
      "white_nonhispanic      0.0004      0.000      2.737      0.007       0.000       0.001\n",
      "==============================================================================\n",
      "Omnibus:                       85.205   Durbin-Watson:                   2.060\n",
      "Prob(Omnibus):                  0.000   Jarque-Bera (JB):             1650.965\n",
      "Skew:                           0.508   Prob(JB):                         0.00\n",
      "Kurtosis:                      14.081   Cond. No.                     1.96e+08\n",
      "==============================================================================\n",
      "\n",
      "Notes:\n",
      "[1] Standard Errors assume that the covariance matrix of the errors is correctly specified.\n",
      "[2] The condition number is large, 1.96e+08. This might indicate that there are\n",
      "strong multicollinearity or other numerical problems.\n"
     ]
    }
   ],
   "source": [
    "# No transformations\n",
    "x = data[['leisure_by_emp','occ_15','total_pop','bachelors_graduate', 'white_nonhispanic']].copy()\n",
    "y = data['emp_tot_change_feb2020_jun2021']\n",
    "model1 = sm.OLS(y,sm.add_constant(x),missing='drop').fit()\n",
    "print(model1.summary())"
   ]
  },
  {
   "cell_type": "code",
   "execution_count": 34,
   "id": "331e7bde",
   "metadata": {},
   "outputs": [
    {
     "name": "stdout",
     "output_type": "stream",
     "text": [
      "                                  OLS Regression Results                                  \n",
      "==========================================================================================\n",
      "Dep. Variable:     emp_tot_change_feb2020_jun2021   R-squared:                       0.076\n",
      "Model:                                        OLS   Adj. R-squared:                  0.061\n",
      "Method:                             Least Squares   F-statistic:                     5.169\n",
      "Date:                            Tue, 10 Aug 2021   Prob (F-statistic):           0.000142\n",
      "Time:                                    12:16:30   Log-Likelihood:                 549.10\n",
      "No. Observations:                             320   AIC:                            -1086.\n",
      "Df Residuals:                                 314   BIC:                            -1064.\n",
      "Df Model:                                       5                                         \n",
      "Covariance Type:                        nonrobust                                         \n",
      "==========================================================================================\n",
      "                             coef    std err          t      P>|t|      [0.025      0.975]\n",
      "------------------------------------------------------------------------------------------\n",
      "const                      0.0332      0.056      0.589      0.556      -0.078       0.144\n",
      "log-leisure_by_emp        -0.1092      0.094     -1.157      0.248      -0.295       0.077\n",
      "log-occ_15                 0.5974      0.253      2.364      0.019       0.100       1.095\n",
      "log-total_pop             -0.0003      0.003     -0.119      0.906      -0.006       0.005\n",
      "log-bachelors_graduate    -0.0516      0.013     -3.978      0.000      -0.077      -0.026\n",
      "log-white_nonhispanic      0.0176      0.007      2.477      0.014       0.004       0.032\n",
      "==============================================================================\n",
      "Omnibus:                       82.664   Durbin-Watson:                   2.063\n",
      "Prob(Omnibus):                  0.000   Jarque-Bera (JB):             1566.335\n",
      "Skew:                           0.474   Prob(JB):                         0.00\n",
      "Kurtosis:                      13.797   Cond. No.                     1.46e+03\n",
      "==============================================================================\n",
      "\n",
      "Notes:\n",
      "[1] Standard Errors assume that the covariance matrix of the errors is correctly specified.\n",
      "[2] The condition number is large, 1.46e+03. This might indicate that there are\n",
      "strong multicollinearity or other numerical problems.\n"
     ]
    }
   ],
   "source": [
    "# Log transformed\n",
    "columns = ['leisure_by_emp','occ_15','total_pop','bachelors_graduate', 'white_nonhispanic']\n",
    "for col in columns:\n",
    "    data[\"log-\" + col] = np.log(1 + data[col])\n",
    "x = data[['log-leisure_by_emp','log-occ_15','log-total_pop','log-bachelors_graduate', 'log-white_nonhispanic']].copy()\n",
    "y = data['emp_tot_change_feb2020_jun2021']\n",
    "model2 = sm.OLS(y,sm.add_constant(x),missing=\"drop\").fit()\n",
    "print(model2.summary())"
   ]
  },
  {
   "cell_type": "markdown",
   "id": "1be5eb66",
   "metadata": {},
   "source": [
    "## Regression 2: Manufacturing"
   ]
  },
  {
   "cell_type": "code",
   "execution_count": 36,
   "id": "ea9bcea1",
   "metadata": {},
   "outputs": [
    {
     "name": "stdout",
     "output_type": "stream",
     "text": [
      "                                     OLS Regression Results                                     \n",
      "================================================================================================\n",
      "Dep. Variable:     manufacturing_change_feb2020_jun2021   R-squared:                       0.064\n",
      "Model:                                              OLS   Adj. R-squared:                  0.049\n",
      "Method:                                   Least Squares   F-statistic:                     4.284\n",
      "Date:                                  Tue, 10 Aug 2021   Prob (F-statistic):           0.000876\n",
      "Time:                                          12:18:19   Log-Likelihood:                 365.78\n",
      "No. Observations:                                   320   AIC:                            -719.6\n",
      "Df Residuals:                                       314   BIC:                            -697.0\n",
      "Df Model:                                             5                                         \n",
      "Covariance Type:                              nonrobust                                         \n",
      "======================================================================================\n",
      "                         coef    std err          t      P>|t|      [0.025      0.975]\n",
      "--------------------------------------------------------------------------------------\n",
      "const                 -0.1118      0.028     -3.991      0.000      -0.167      -0.057\n",
      "leisure_by_emp         0.3222      0.145      2.225      0.027       0.037       0.607\n",
      "occ_15                 0.9783      0.428      2.284      0.023       0.135       1.821\n",
      "total_pop          -4.439e-09   2.71e-09     -1.637      0.103   -9.77e-09    8.97e-10\n",
      "bachelors_graduate     0.0005      0.001      0.617      0.538      -0.001       0.002\n",
      "white_nonhispanic      0.0004      0.000      1.530      0.127      -0.000       0.001\n",
      "==============================================================================\n",
      "Omnibus:                       78.804   Durbin-Watson:                   2.090\n",
      "Prob(Omnibus):                  0.000   Jarque-Bera (JB):              754.514\n",
      "Skew:                           0.688   Prob(JB):                    1.44e-164\n",
      "Kurtosis:                      10.396   Cond. No.                     1.96e+08\n",
      "==============================================================================\n",
      "\n",
      "Notes:\n",
      "[1] Standard Errors assume that the covariance matrix of the errors is correctly specified.\n",
      "[2] The condition number is large, 1.96e+08. This might indicate that there are\n",
      "strong multicollinearity or other numerical problems.\n"
     ]
    }
   ],
   "source": [
    "# No transformations\n",
    "x = data[['leisure_by_emp','occ_15','total_pop','bachelors_graduate', 'white_nonhispanic']].copy()\n",
    "y = data['manufacturing_change_feb2020_jun2021']\n",
    "model3 = sm.OLS(y,sm.add_constant(x),missing='drop').fit()\n",
    "print(model3.summary())"
   ]
  },
  {
   "cell_type": "code",
   "execution_count": 37,
   "id": "fc44ac55",
   "metadata": {},
   "outputs": [
    {
     "name": "stdout",
     "output_type": "stream",
     "text": [
      "                                     OLS Regression Results                                     \n",
      "================================================================================================\n",
      "Dep. Variable:     manufacturing_change_feb2020_jun2021   R-squared:                       0.070\n",
      "Model:                                              OLS   Adj. R-squared:                  0.055\n",
      "Method:                                   Least Squares   F-statistic:                     4.740\n",
      "Date:                                  Tue, 10 Aug 2021   Prob (F-statistic):           0.000344\n",
      "Time:                                          12:18:41   Log-Likelihood:                 366.87\n",
      "No. Observations:                                   320   AIC:                            -721.7\n",
      "Df Residuals:                                       314   BIC:                            -699.1\n",
      "Df Model:                                             5                                         \n",
      "Covariance Type:                              nonrobust                                         \n",
      "==========================================================================================\n",
      "                             coef    std err          t      P>|t|      [0.025      0.975]\n",
      "------------------------------------------------------------------------------------------\n",
      "const                     -0.0518      0.100     -0.520      0.604      -0.248       0.144\n",
      "log-leisure_by_emp         0.3438      0.167      2.061      0.040       0.016       0.672\n",
      "log-occ_15                 1.1021      0.447      2.468      0.014       0.223       1.981\n",
      "log-total_pop             -0.0118      0.005     -2.367      0.019      -0.022      -0.002\n",
      "log-bachelors_graduate     0.0269      0.023      1.175      0.241      -0.018       0.072\n",
      "log-white_nonhispanic      0.0082      0.013      0.656      0.512      -0.016       0.033\n",
      "==============================================================================\n",
      "Omnibus:                       68.585   Durbin-Watson:                   2.056\n",
      "Prob(Omnibus):                  0.000   Jarque-Bera (JB):              663.996\n",
      "Skew:                           0.530   Prob(JB):                    6.53e-145\n",
      "Kurtosis:                       9.977   Cond. No.                     1.46e+03\n",
      "==============================================================================\n",
      "\n",
      "Notes:\n",
      "[1] Standard Errors assume that the covariance matrix of the errors is correctly specified.\n",
      "[2] The condition number is large, 1.46e+03. This might indicate that there are\n",
      "strong multicollinearity or other numerical problems.\n"
     ]
    }
   ],
   "source": [
    "# Log transformed\n",
    "columns = ['leisure_by_emp','occ_15','total_pop','bachelors_graduate', 'white_nonhispanic']\n",
    "for col in columns:\n",
    "    data[\"log-\" + col] = np.log(1 + data[col])\n",
    "x = data[['log-leisure_by_emp','log-occ_15','log-total_pop','log-bachelors_graduate', 'log-white_nonhispanic']].copy()\n",
    "y = data['manufacturing_change_feb2020_jun2021']\n",
    "model4 = sm.OLS(y,sm.add_constant(x),missing=\"drop\").fit()\n",
    "print(model4.summary())"
   ]
  },
  {
   "cell_type": "code",
   "execution_count": null,
   "id": "f17acab5",
   "metadata": {},
   "outputs": [],
   "source": []
  }
 ],
 "metadata": {
  "kernelspec": {
   "display_name": "Python 3",
   "language": "python",
   "name": "python3"
  },
  "language_info": {
   "codemirror_mode": {
    "name": "ipython",
    "version": 3
   },
   "file_extension": ".py",
   "mimetype": "text/x-python",
   "name": "python",
   "nbconvert_exporter": "python",
   "pygments_lexer": "ipython3",
   "version": "3.8.3"
  }
 },
 "nbformat": 4,
 "nbformat_minor": 5
}
