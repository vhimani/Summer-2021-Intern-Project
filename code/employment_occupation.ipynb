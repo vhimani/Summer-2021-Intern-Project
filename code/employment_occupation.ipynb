{
 "cells": [
  {
   "cell_type": "code",
   "execution_count": 4,
   "id": "bae63507",
   "metadata": {},
   "outputs": [],
   "source": [
    "# Import libraries\n",
    "import pandas as pd\n",
    "import numpy as np\n",
    "from datetime import datetime, timedelta\n",
    "import os\n",
    "import sys\n",
    "sys.path.append(\"../\")\n",
    "import zipfile\n",
    "import urllib.request\n",
    "from shutil import copyfile"
   ]
  },
  {
   "cell_type": "code",
   "execution_count": 18,
   "id": "7dfb7482",
   "metadata": {},
   "outputs": [],
   "source": [
    "# Go to the input folder\n",
    "def change_dir_to_input(newpath):\n",
    "    get_path = sys.path[0].split(\"\\\\\")      \n",
    "    del get_path[-1]                        \n",
    "    cwd = \"input\\\\\" + str(newpath)                          \n",
    "    get_path.append(cwd)                    \n",
    "    path = \"\\\\\".join(get_path)              \n",
    "    os.chdir(path)                         "
   ]
  },
  {
   "cell_type": "code",
   "execution_count": 20,
   "id": "a5e12391",
   "metadata": {},
   "outputs": [],
   "source": [
    "# Get input files from 2014 to 2020\n",
    "for i in range(14,21):\n",
    "    change_dir_to_input('occupation_orig')\n",
    "    url = 'https://www.bls.gov/oes/special.requests/oesm'+ str(i) + 'ma.zip'\n",
    "    urllib.request.urlretrieve(url, 'oesm'+ str(i) + 'ma.zip')\n",
    "    zf = zipfile.ZipFile('oesm'+ str(i) + 'ma.zip') \n",
    "    df = pd.read_excel(zf.open('oesm'+ str(i) + 'ma/MSA_M20'+ str(i) +'_dl.xlsx'))\n",
    "    df.columns = map(str.upper, df.columns)\n",
    "    if 'OCC_GROUP' in list(df.columns):\n",
    "        df = df.rename(columns={'OCC_GROUP': 'O_GROUP'})\n",
    "    df = df[df.O_GROUP.str.contains(\"major\")]\n",
    "    change_dir_to_input('occupation_out')\n",
    "    df.to_csv('MSA20'+str(i)+'.csv')"
   ]
  },
  {
   "cell_type": "code",
   "execution_count": null,
   "id": "2d1d2eb6",
   "metadata": {},
   "outputs": [],
   "source": []
  }
 ],
 "metadata": {
  "kernelspec": {
   "display_name": "Python 3",
   "language": "python",
   "name": "python3"
  },
  "language_info": {
   "codemirror_mode": {
    "name": "ipython",
    "version": 3
   },
   "file_extension": ".py",
   "mimetype": "text/x-python",
   "name": "python",
   "nbconvert_exporter": "python",
   "pygments_lexer": "ipython3",
   "version": "3.8.3"
  }
 },
 "nbformat": 4,
 "nbformat_minor": 5
}
