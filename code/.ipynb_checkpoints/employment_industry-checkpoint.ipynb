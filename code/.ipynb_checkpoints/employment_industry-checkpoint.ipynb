{
 "cells": [
  {
   "cell_type": "code",
   "execution_count": 1,
   "id": "da8eb8da",
   "metadata": {},
   "outputs": [],
   "source": [
    "# Import libraries\n",
    "import pandas as pd\n",
    "import numpy as np\n",
    "from datetime import datetime, timedelta\n",
    "import os\n",
    "from os import *\n",
    "import sys\n",
    "sys.path.append(\"../\")\n",
    "import zipfile\n",
    "import urllib.request\n",
    "from shutil import copyfile\n",
    "import shutil"
   ]
  },
  {
   "cell_type": "code",
   "execution_count": 7,
   "id": "b94b906b",
   "metadata": {},
   "outputs": [
    {
     "data": {
      "text/plain": [
       "('index.csv', <http.client.HTTPMessage at 0x1bc78f8e970>)"
      ]
     },
     "execution_count": 7,
     "metadata": {},
     "output_type": "execute_result"
    }
   ],
   "source": [
    "url = 'https://download.bls.gov/pub/time.series/sm/sm.data.1.AllData'\n",
    "urllib.request.urlretrieve(url,'index.csv')"
   ]
  },
  {
   "cell_type": "code",
   "execution_count": null,
   "id": "d93ce87a",
   "metadata": {},
   "outputs": [],
   "source": []
  }
 ],
 "metadata": {
  "kernelspec": {
   "display_name": "Python 3",
   "language": "python",
   "name": "python3"
  },
  "language_info": {
   "codemirror_mode": {
    "name": "ipython",
    "version": 3
   },
   "file_extension": ".py",
   "mimetype": "text/x-python",
   "name": "python",
   "nbconvert_exporter": "python",
   "pygments_lexer": "ipython3",
   "version": "3.8.3"
  }
 },
 "nbformat": 4,
 "nbformat_minor": 5
}
