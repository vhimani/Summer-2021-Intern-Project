{
 "cells": [
  {
   "cell_type": "code",
   "execution_count": 1,
   "id": "bae63507",
   "metadata": {},
   "outputs": [],
   "source": [
    "# Import libraries\n",
    "import pandas as pd\n",
    "import numpy as np\n",
    "from datetime import datetime, timedelta\n",
    "import os\n",
    "from os import *\n",
    "import sys\n",
    "sys.path.append(\"../\")\n",
    "import zipfile\n",
    "import urllib.request\n",
    "from shutil import copyfile\n",
    "import shutil"
   ]
  },
  {
   "cell_type": "code",
   "execution_count": 2,
   "id": "7dfb7482",
   "metadata": {},
   "outputs": [],
   "source": [
    "# Go to the input folder\n",
    "def change_dir_to_input(newpath):\n",
    "    get_path = sys.path[0].split(\"\\\\\")      \n",
    "    del get_path[-1]                        \n",
    "    cwd = \"input\\\\\" + str(newpath)                          \n",
    "    get_path.append(cwd)                    \n",
    "    path = \"\\\\\".join(get_path)              \n",
    "    os.chdir(path)    "
   ]
  },
  {
   "cell_type": "code",
   "execution_count": 3,
   "id": "a5e12391",
   "metadata": {},
   "outputs": [],
   "source": [
    "# Get input files from 2003 to 2020\n",
    "change_dir_to_input('')\n",
    "os.mkdir('occupation_orig')\n",
    "for i in range(3,21):\n",
    "    change_dir_to_input('occupation_orig')\n",
    "    if i in range(3,10):\n",
    "        url = 'https://www.bls.gov/oes/special.requests/oesm0'+ str(i) + 'ma.zip'\n",
    "        urllib.request.urlretrieve(url, 'oesm0'+ str(i) + 'ma.zip')\n",
    "        zip_filename = 'oesm0'+ str(i) + 'ma.zip'\n",
    "    else:\n",
    "        url = 'https://www.bls.gov/oes/special.requests/oesm'+ str(i) + 'ma.zip'\n",
    "        urllib.request.urlretrieve(url, 'oesm'+ str(i) + 'ma.zip')\n",
    "        zip_filename = 'oesm'+ str(i) + 'ma.zip'\n",
    "    zf = zipfile.ZipFile(zip_filename)\n",
    "    if i in range(3,14):\n",
    "        files = [i.filename  for i in zf.infolist()]\n",
    "        files_to_del = filter( lambda f: f.startswith('a') or f.startswith('BOS') or f.startswith('field') or f.startswith('file'), zf.namelist())\n",
    "        for k in list(files_to_del):\n",
    "            files.remove(k)\n",
    "        df = pd.DataFrame()\n",
    "        for j in sizes:\n",
    "            li = pd.read_excel(zf.open(j))\n",
    "            df = df.append(li, ignore_index=True)\n",
    "    elif i in range(14, 21):\n",
    "        df = pd.read_excel(zf.open('oesm'+ str(i) + 'ma/MSA_M20'+ str(i) +'_dl.xlsx'))\n",
    "    df.columns = map(str.upper, df.columns)\n",
    "    if 'OCC_GROUP' in list(df.columns):\n",
    "        df = df.rename(columns={'OCC_GROUP': 'O_GROUP'})\n",
    "    if 'GROUP' in list(df.columns):\n",
    "        df = df.rename(columns={'GROUP': 'O_GROUP'})\n",
    "    if 'AREA_NAME' in list(df.columns):\n",
    "        df = df.rename(columns={'AREA_NAME': 'AREA_TITLE'})\n",
    "    df = df[df.O_GROUP.str.contains(\"major\",na=False)]\n",
    "    df = df.drop(['NAICS','NAICS_TITLE','I_GROUP','OWN_CODE','PCT_TOTAL','ANNUAL','HOURLY'],axis=1,errors='ignore')\n",
    "    change_dir_to_input('occupation_out')\n",
    "    if i in range(3,10):\n",
    "        df['year'] = '200' + str(i)\n",
    "        df.to_csv('MSA200'+str(i)+'.csv')\n",
    "    else:\n",
    "        df['year'] = '20' + str(i)\n",
    "        df.to_csv('MSA20'+str(i)+'.csv')"
   ]
  },
  {
   "cell_type": "code",
   "execution_count": 13,
   "id": "b5ad90b5",
   "metadata": {},
   "outputs": [],
   "source": [
    "change_dir_to_input('occupation_out')\n",
    "li = []\n",
    "for i in range(3,21):\n",
    "    if i in range(3,10):\n",
    "        df = pd.read_csv('MSA200'+str(i)+'.csv')\n",
    "    else:\n",
    "        df = pd.read_csv('MSA20'+str(i)+'.csv')\n",
    "    li.append(df)\n",
    "\n",
    "frame = pd.concat(li, axis=0, ignore_index=True)\n",
    "frame.to_csv('all_combined.csv')"
   ]
  }
 ],
 "metadata": {
  "kernelspec": {
   "display_name": "Python 3",
   "language": "python",
   "name": "python3"
  },
  "language_info": {
   "codemirror_mode": {
    "name": "ipython",
    "version": 3
   },
   "file_extension": ".py",
   "mimetype": "text/x-python",
   "name": "python",
   "nbconvert_exporter": "python",
   "pygments_lexer": "ipython3",
   "version": "3.8.3"
  }
 },
 "nbformat": 4,
 "nbformat_minor": 5
}
